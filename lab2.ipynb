{
 "cells": [
  {
   "attachments": {},
   "cell_type": "markdown",
   "metadata": {},
   "source": [
    "Students:\n",
    "\n",
    "- Jauroyon Maxime\n",
    "- Ranjbar Madi\n",
    "- Becquet Gabriel\n",
    "\n",
    "# Deep Learning - Lab Exercise 2\n",
    "\n",
    "**WARNING:** you must have finished the first exercise before this one as you will re-use parts of the code.\n",
    "\n",
    "In the first lab exercise, we built a simple linear classifier.\n",
    "Although it can give reasonable results on the MNIST dataset (~92.5% of accuracy), deeper neural networks can achieve more the 99% accuracy.\n",
    "However, it can quickly become really impracical to explicitly code forward and backward passes.\n",
    "Hence, it is useful to rely on an auto-diff library where we specify the forward pass once, and the backward pass is automatically deduced from the computational graph structure.\n",
    "\n",
    "In this lab exercise, we will build a small and simple auto-diff lib that mimics the autograd mechanism from Pytorch (of course, we will simplify a lot!)\n"
   ]
  },
  {
   "cell_type": "code",
   "execution_count": 1,
   "metadata": {},
   "outputs": [],
   "source": [
    "# import libs that we will use\n",
    "import os\n",
    "import numpy as np\n",
    "import matplotlib.pyplot as plt\n",
    "import math\n",
    "\n",
    "# To load the data we will use the script of Gaetan Marceau Caron\n",
    "# You can download it from the course webiste and move it to the same directory that contains this ipynb file\n",
    "import dataset_loader\n",
    "\n",
    "%matplotlib inline"
   ]
  },
  {
   "cell_type": "markdown",
   "metadata": {},
   "source": [
    "# Data"
   ]
  },
  {
   "cell_type": "code",
   "execution_count": 2,
   "metadata": {},
   "outputs": [],
   "source": [
    "# Download mnist dataset \n",
    "if(\"mnist.pkl.gz\" not in os.listdir(\".\")):\n",
    "    # this link doesn't work any more,\n",
    "    # seach on google for the file \"mnist.pkl.gz\"\n",
    "    # and download it\n",
    "    !wget http://deeplearning.net/data/mnist/mnist.pkl.gz\n",
    "\n",
    "# if you have it somewhere else, you can comment the lines above\n",
    "# and overwrite the path below\n",
    "mnist_path = \"./mnist.pkl.gz\""
   ]
  },
  {
   "cell_type": "code",
   "execution_count": 3,
   "metadata": {},
   "outputs": [],
   "source": [
    "# load the 3 splits\n",
    "train_data, dev_data, test_data = dataset_loader.load_mnist(mnist_path)"
   ]
  },
  {
   "cell_type": "code",
   "execution_count": 4,
   "metadata": {},
   "outputs": [
    {
     "name": "stdout",
     "output_type": "stream",
     "text": [
      "label: 0\n"
     ]
    },
    {
     "data": {
      "text/plain": [
       "<matplotlib.image.AxesImage at 0x22c9a781460>"
      ]
     },
     "execution_count": 4,
     "metadata": {},
     "output_type": "execute_result"
    },
    {
     "data": {
      "image/png": "[encoded data removed]",
      "text/plain": [
       "<Figure size 640x480 with 1 Axes>"
      ]
     },
     "metadata": {},
     "output_type": "display_data"
    }
   ],
   "source": [
    "index = 900\n",
    "label = train_data[1][index]\n",
    "picture = train_data[0][index]\n",
    "\n",
    "print(\"label: %i\" % label)\n",
    "plt.imshow(picture.reshape(28,28), cmap='Greys')"
   ]
  },
  {
   "cell_type": "markdown",
   "metadata": {},
   "source": [
    "# Computation nodes\n",
    "\n",
    "Instead of directly manipulating numpy arrays, we will manipulate abstraction that contains:\n",
    "- a value (i.e. a numpy array)\n",
    "- a bool indicating if we wish to compute the gradient with respect to the value\n",
    "- the gradient with respect to the value\n",
    "- the operation to call during backpropagation\n",
    "\n",
    "There will be two kind of nodes:\n",
    "- Tensor: a generic computation node\n",
    "- Parameter: a computation node that is used to store parameters of the network. Parameters are always leaf nodes, i.e. they cannot be build from other computation nodes.\n",
    "\n",
    "Our implementation of the backward pass will be really simple and incorrect in the general case (i.e. won't work with computation graph with loops).\n",
    "We will just apply the derivative function for a given tensor and then call the ones of its antecedents, recursively.\n",
    "This simple algorithm is good enough for this exercise.\n",
    "\n",
    "Note that a real implementation of backprop will store temporary values during forward that can be used during backward to improve computation speed. We do not do that here."
   ]
  },
  {
   "cell_type": "code",
   "execution_count": 42,
   "metadata": {},
   "outputs": [],
   "source": [
    "class Tensor:\n",
    "    def __init__(self, data, require_grad=False):\n",
    "        # test type of data: should be np array\n",
    "        if isinstance(data, float):\n",
    "            data = np.array([data,])\n",
    "        if type(data) != np.ndarray:\n",
    "            raise RuntimeError(\"Input should be a numpy array\")\n",
    "\n",
    "        # store data for this tensor\n",
    "        self.data = data\n",
    "        self.require_grad = require_grad\n",
    "        \n",
    "        # this values should be set to enable autograd!\n",
    "        self.gradient = None\n",
    "        self.d = None\n",
    "        self.backptr = None\n",
    "        \n",
    "    def zero_grad(self):\n",
    "        \"\"\"\n",
    "        Set the gradient of thie tensor to 0\n",
    "        \"\"\"\n",
    "        if self.require_grad:\n",
    "            self.gradient = np.zeros_like(self.data)\n",
    "            \n",
    "    def accumulate_gradient(self, gradient):\n",
    "        \"\"\"\n",
    "        Accumulte gradient for this tensor\n",
    "        \"\"\"\n",
    "        if gradient.shape != self.data.shape:\n",
    "            print(\"Gradient shape: \", gradient.shape)\n",
    "            print(\"Data shape: \", self.data.shape)\n",
    "            raise RuntimeError(\"Invalid gradient dimension\")\n",
    "\n",
    "        if self.gradient is None:\n",
    "            self.gradient = np.copy(gradient)\n",
    "        else:\n",
    "            self.gradient += gradient\n",
    "            \n",
    "    def backward(self, g=None):\n",
    "        \"\"\"\n",
    "        The backward pass!\n",
    "        If g != None, then g is the gradient for the current node.\n",
    "        i.e. g will be != None only for the loss output.\n",
    "        \n",
    "        You should call the function stored in self.d with correct arguments,\n",
    "        and then recursively call the backward methods of tensors in the backptr list if:\n",
    "        1. they require a gradient\n",
    "        2. they are of type Tensor: check with isinstance(o, Tensor)\n",
    "        \"\"\"\n",
    "        if not self.require_grad:  # stop right now if this node does not require a gradient\n",
    "            return\n",
    "        \n",
    "        if g is not None:\n",
    "            if isinstance(g, float):\n",
    "                g = np.array([g])\n",
    "            if type(g) != np.ndarray:\n",
    "                raise RuntimeError(\"Gradient should be a numpy array\")\n",
    "            if g.shape != self.data.shape:\n",
    "                raise RuntimeError(\"Gradient of different size than the value!\")\n",
    "                \n",
    "            self.gradient = g\n",
    "\n",
    "        if self.d is not None:\n",
    "            self.d(self.backptr, self.gradient)\n",
    "            \n",
    "        if self.backptr is not None:\n",
    "            for o in self.backptr:\n",
    "                if isinstance(o, Tensor) and o.require_grad and not isinstance(o, Parameter):\n",
    "                    o.backward()\n",
    "        \n",
    "\n",
    "\n",
    "        \n",
    "    \n",
    "    \n",
    "class Parameter(Tensor):\n",
    "    \"\"\"\n",
    "    This class will be used to store parameters of the network only!\n",
    "    \"\"\"\n",
    "    def __init__(self, data, name=\"unamed\"):\n",
    "        super().__init__(data, require_grad=True)\n",
    "        self.name = name\n",
    "        self.velocity = np.zeros_like(self.data)\n",
    "        \n",
    "    def backward(self):\n",
    "        raise RuntimeError(\"You cannot backprop from a Parameter node\")"
   ]
  },
  {
   "cell_type": "markdown",
   "metadata": {},
   "source": [
    "# Functions\n",
    "\n",
    "Functions manipulate tensors and build the required information for autograd.\n",
    "A function returns a Tensor that should have require_grad = True if at least of the arguments require a gradient."
   ]
  },
  {
   "cell_type": "code",
   "execution_count": 6,
   "metadata": {},
   "outputs": [],
   "source": [
    "def any_require_grad(l):\n",
    "    \"\"\"\n",
    "    Input:\n",
    "    - l: an iterable (e.g. a list)\n",
    "    Ouput:\n",
    "    - True if any tensor in the input requires a gradient\n",
    "    \"\"\"\n",
    "    return any(t.require_grad for t in l)"
   ]
  },
  {
   "cell_type": "code",
   "execution_count": 7,
   "metadata": {},
   "outputs": [],
   "source": [
    "# Here is an exemple with the ReLU\n",
    "def relu(x):\n",
    "    v = np.maximum(0, x.data)\n",
    "    \n",
    "    output = Tensor(v, require_grad=x.require_grad)\n",
    "    output.d = backward_relu\n",
    "    output.backptr = [x]\n",
    "    \n",
    "    return output\n",
    "\n",
    "def backward_relu(backptr, g):\n",
    "    x, = backptr\n",
    "    \n",
    "    # the gradient is accumulated in the arguments only if required\n",
    "    if x.require_grad:\n",
    "        x.accumulate_gradient(g * (x.data > 0))"
   ]
  },
  {
   "cell_type": "code",
   "execution_count": 8,
   "metadata": {},
   "outputs": [],
   "source": [
    "def tanh(x):\n",
    "    v = np.tanh(x.data)\n",
    "    \n",
    "    output = Tensor(v, require_grad=x.require_grad)\n",
    "    output.d = backward_tanh\n",
    "    output.backptr = [x]\n",
    "    \n",
    "    return output\n",
    "\n",
    "def backward_tanh(backptr, g):\n",
    "    x, = backptr\n",
    "    \n",
    "    # the gradient is accumulated in the arguments only if required\n",
    "    if x.require_grad:\n",
    "        x.accumulate_gradient(g * (1 - np.tanh(x.data)**2))"
   ]
  },
  {
   "cell_type": "markdown",
   "metadata": {},
   "source": [
    "Next, we implement the affine transform operation.\n",
    "You can reuse the code from the first lab exercise, with one major difference: you have to compute the gradient with respect to x too!"
   ]
  },
  {
   "cell_type": "code",
   "execution_count": 9,
   "metadata": {},
   "outputs": [],
   "source": [
    "def affine_transform(W, b, x):\n",
    "    v = np.dot(W.data, x.data) + b.data\n",
    "    \n",
    "    output = Tensor(v, require_grad=any_require_grad([W, b, x]))\n",
    "    output.d = backward_affine_transform\n",
    "    output.backptr = [W, b, x]\n",
    "    \n",
    "    return output\n",
    "\n",
    "def backward_affine_transform(backptr, g):\n",
    "    W, b, x = backptr\n",
    "    \n",
    "    # the gradient is accumulated in the arguments only if required\n",
    "    if W.require_grad:\n",
    "        W.accumulate_gradient(np.outer(g, x.data))\n",
    "    if b.require_grad:\n",
    "        b.accumulate_gradient(g)\n",
    "    if isinstance(x, Tensor) and x.require_grad:\n",
    "        # (10, 100) (10,) (100,) (10,)\n",
    "        #print(W.data.shape, b.data.shape, x.data.shape, g.shape)\n",
    "        x.accumulate_gradient(np.dot(W.data.T, g))"
   ]
  },
  {
   "cell_type": "code",
   "execution_count": 10,
   "metadata": {},
   "outputs": [],
   "source": [
    "# we use an underscore because this function does not manipulate tensors:\n",
    "# it is exactly the same as in the previous exercise\n",
    "def _softmax(x):\n",
    "    \"\"\"\n",
    "    Compute softmax values for each sets of scores in x.\n",
    "    \"\"\"\n",
    "    b = np.max(x)\n",
    "    y = np.exp(x - b)\n",
    "    return y / y.sum()\n",
    "\n",
    "\n",
    "def nll(x, gold):\n",
    "    \"\"\"\n",
    "    x: a vector of scores\n",
    "    gold: the index of the correct class\n",
    "    \"\"\"\n",
    "    _x = _softmax(x.data)\n",
    "    b = np.max(_x)\n",
    "    v = -_x[gold] + b + np.log(np.sum(np.exp(_x - b)))\n",
    "    \n",
    "    output = Tensor(v, require_grad=x.require_grad)\n",
    "    output.d = backward_nll\n",
    "    output.backptr = [x, gold]\n",
    "    \n",
    "    return output\n",
    "\n",
    "def backward_nll(backptr, g):\n",
    "    x, gold = backptr\n",
    "    \n",
    "    # the gradient is accumulated in the arguments only if required\n",
    "    if x.require_grad:\n",
    "        _x = _softmax(x.data)\n",
    "        _x[gold] -= 1\n",
    "        x.accumulate_gradient(g * _x)"
   ]
  },
  {
   "cell_type": "markdown",
   "metadata": {},
   "source": [
    "# Module\n",
    "\n",
    "Neural networks or parts of neural networks will be stored in Modules.\n",
    "They implement method to retrieve all parameters of the network and subnetwork."
   ]
  },
  {
   "cell_type": "code",
   "execution_count": 11,
   "metadata": {},
   "outputs": [],
   "source": [
    "class Module:\n",
    "    def __init__(self):\n",
    "        raise NotImplemented(\"\")\n",
    "        \n",
    "    def parameters(self):\n",
    "        ret = []\n",
    "        for name in dir(self):\n",
    "            o = self.__getattribute__(name)\n",
    "\n",
    "            if type(o) is Parameter:\n",
    "                ret.append(o)\n",
    "            if isinstance(o, Module) or isinstance(o, ModuleList):\n",
    "                ret.extend(o.parameters())\n",
    "        return ret\n",
    "\n",
    "# if you want to store a list of Parameters or Module,\n",
    "# you must store them in a ModuleList instead of a python list,\n",
    "# in order to collect the parameters correctly\n",
    "class ModuleList(list):\n",
    "    def parameters(self):\n",
    "        ret = []\n",
    "        for m in self:\n",
    "            if type(m) is Parameter:\n",
    "                ret.append(m)\n",
    "            elif isinstance(m, Module) or isinstance(m, ModuleList):\n",
    "                ret.extend(m.parameters())\n",
    "        return ret"
   ]
  },
  {
   "cell_type": "markdown",
   "metadata": {},
   "source": [
    "# Initialization and optimization"
   ]
  },
  {
   "cell_type": "code",
   "execution_count": 12,
   "metadata": {},
   "outputs": [],
   "source": [
    "def zero_init(b):\n",
    "    b[:] = 0.\n",
    "\n",
    "def glorot_init(W):\n",
    "    W[:] = np.random.uniform(-np.sqrt(6. / (W.shape[0] + W.shape[1])),\n",
    "                             np.sqrt(6. / (W.shape[0] + W.shape[1])),\n",
    "                             W.shape)\n",
    "    \n",
    "# Look at slides for the formula!\n",
    "def kaiming_init(W):\n",
    "    W[:] = np.random.uniform(-np.sqrt(6. / (W.shape[1])),\n",
    "                             np.sqrt(6. / (W.shape[1])),\n",
    "                             W.shape)"
   ]
  },
  {
   "cell_type": "code",
   "execution_count": 13,
   "metadata": {},
   "outputs": [],
   "source": [
    "# simple gradient descent optimizer\n",
    "class SGD:\n",
    "    def __init__(self, params, lr=0.1):\n",
    "        self.params = params\n",
    "        self.lr = lr\n",
    "        \n",
    "    def step(self):\n",
    "        for p in self.params:\n",
    "            p.data[:] = p.data - self.lr * p.gradient\n",
    "        \n",
    "    def zero_grad(self):\n",
    "        for p in self.params:\n",
    "            p.zero_grad()"
   ]
  },
  {
   "cell_type": "markdown",
   "metadata": {},
   "source": [
    "# Networks and training loop\n",
    "\n",
    "We first create a simple linear classifier, similar to the first lab exercise."
   ]
  },
  {
   "cell_type": "code",
   "execution_count": 14,
   "metadata": {},
   "outputs": [],
   "source": [
    "class LinearNetwork(Module):\n",
    "    def __init__(self, dim_input, dim_output):\n",
    "        # build the parameters\n",
    "        self.W = Parameter(np.ndarray((dim_output, dim_input)), name=\"W\")\n",
    "        self.b = Parameter(np.ndarray((dim_output,)), name=\"b\")\n",
    "        \n",
    "        self.init_parameters()\n",
    "        \n",
    "    def init_parameters(self):\n",
    "        # init parameters of the network (i.e W and b)\n",
    "        glorot_init(self.W.data)\n",
    "        zero_init(self.b.data)\n",
    "        \n",
    "    def forward(self, x):\n",
    "        return  affine_transform(self.W, self.b, x)"
   ]
  },
  {
   "cell_type": "markdown",
   "metadata": {},
   "source": [
    "We will train several neural networks.\n",
    "Therefore, we encapsulate the training loop in a function.\n",
    "\n",
    "**warning**: you have to call optimizer.zero_grad() before each backward pass to reinitialize the gradient of the parameters!"
   ]
  },
  {
   "cell_type": "code",
   "execution_count": 15,
   "metadata": {},
   "outputs": [],
   "source": [
    "def training_loop(network, optimizer, train_data, dev_data, n_epochs=10):\n",
    "    # almost the same as last week\n",
    "    from sklearn.utils import shuffle\n",
    "\n",
    "    # store loss, dev accuracy and train accuracy for each epoch\n",
    "    losses = []\n",
    "    dev_accs = []\n",
    "    train_accs = []\n",
    "\n",
    "    for epoch in range(n_epochs):\n",
    "\n",
    "        # we store the loss and dev_acc for each training example\n",
    "        loss = []\n",
    "        dev_acc = []\n",
    "\n",
    "        # Shuffle the training data\n",
    "        train_data_shuffle = shuffle(train_data[0], train_data[1])\n",
    "\n",
    "        # Print the epoch number\n",
    "        print(\"Epoch %i :\" % (epoch+1))\n",
    "\n",
    "        # Train\n",
    "        for i in range(len(train_data[0])):\n",
    "            # get the data\n",
    "            x = train_data_shuffle[0][i]\n",
    "            y_gold = train_data_shuffle[1][i]\n",
    "\n",
    "            # forward pass\n",
    "            z = network.forward(x)\n",
    "\n",
    "            # compute the loss\n",
    "            l = nll(z, y_gold)\n",
    "            loss.append(l.data)\n",
    "\n",
    "            # compute gradient (backpropagation)\n",
    "            optimizer.zero_grad()\n",
    "            l.backward(1.)\n",
    "\n",
    "            # gradient descent update\n",
    "            optimizer.step()\n",
    "                \n",
    "\n",
    "            if ((i % 10000) == 0):\n",
    "                # Dev evaluation\n",
    "                n_correct = 0\n",
    "                for i in range(len(dev_data[0])):\n",
    "                    x = dev_data[0][i]\n",
    "                    y = dev_data[1][i]\n",
    "\n",
    "                    z = network.forward(x)\n",
    "                    y_hat = _softmax(z.data)\n",
    "\n",
    "                    if np.argmax(y_hat) == y:\n",
    "                        n_correct += 1\n",
    "\n",
    "                dev_acc.append(n_correct / len(dev_data[0]))\n",
    "                # print(\"         Dev Accuracy: %f\" % (n_correct / len(dev_data[0])))\n",
    "\n",
    "\n",
    "        # print mean of the loss\n",
    "        print(\"         Mean Loss: %f\" % (np.mean(loss)))\n",
    "\n",
    "        # print max dev accuracy\n",
    "        print(\"         Best Dev Accuracy: %f\" % (np.max(dev_acc)))\n",
    "        \n",
    "        # Train evaluation\n",
    "        n_correct = 0\n",
    "        for i in range(len(train_data[0])):\n",
    "            x = train_data[0][i]\n",
    "            y = train_data[1][i]\n",
    "\n",
    "            z = network.forward(x)\n",
    "            y_hat = _softmax(z.data)\n",
    "\n",
    "            if np.argmax(y_hat) == y:\n",
    "                n_correct += 1\n",
    "                \n",
    "        print(\"         Train Accuracy: %f\" % (n_correct / len(train_data[0])))\n",
    "\n",
    "        # save the mean loss and the max dev accuracy and train accuracy for this epoch\n",
    "        losses.append(np.mean(loss))\n",
    "        dev_accs.append(np.max(dev_acc))\n",
    "        train_accs.append(n_correct / len(train_data[0]))\n",
    "\n",
    "\n",
    "        \n",
    "    # Test evaluation\n",
    "    n_correct = 0\n",
    "    for i in range(len(test_data[0])):\n",
    "        x = test_data[0][i]\n",
    "        y = test_data[1][i]\n",
    "\n",
    "        z = network.forward(x)\n",
    "        y_hat = _softmax(z.data)\n",
    "\n",
    "        if np.argmax(y_hat) == y:\n",
    "            n_correct += 1\n",
    "\n",
    "    print(\"Test Accuracy : %f\" % (n_correct / len(test_data[0])))"
   ]
  },
  {
   "cell_type": "code",
   "execution_count": 16,
   "metadata": {},
   "outputs": [
    {
     "name": "stdout",
     "output_type": "stream",
     "text": [
      "Epoch 0 :\n",
      "         Mean Loss: 1.632499\n",
      "         Best Dev Accuracy: 0.920500\n",
      "         Train Accuracy: 0.911480\n",
      "Epoch 1 :\n",
      "         Mean Loss: 1.592563\n",
      "         Best Dev Accuracy: 0.919100\n",
      "         Train Accuracy: 0.918700\n",
      "Epoch 2 :\n",
      "         Mean Loss: 1.585654\n",
      "         Best Dev Accuracy: 0.924600\n",
      "         Train Accuracy: 0.920160\n",
      "Epoch 3 :\n",
      "         Mean Loss: 1.581885\n",
      "         Best Dev Accuracy: 0.923700\n",
      "         Train Accuracy: 0.922260\n",
      "Epoch 4 :\n",
      "         Mean Loss: 1.579718\n",
      "         Best Dev Accuracy: 0.925800\n",
      "         Train Accuracy: 0.923700\n",
      "Test Accuracy : 0.920200\n"
     ]
    }
   ],
   "source": [
    "dim_input = 28*28\n",
    "dim_output = 10\n",
    "\n",
    "network = LinearNetwork(dim_input, dim_output)\n",
    "optimizer = SGD(network.parameters(), 0.01)\n",
    "\n",
    "training_loop(network, optimizer, train_data, dev_data, n_epochs=5)"
   ]
  },
  {
   "cell_type": "markdown",
   "metadata": {},
   "source": [
    "After you finished the linear network, you can move to a deep network!"
   ]
  },
  {
   "cell_type": "code",
   "execution_count": 17,
   "metadata": {},
   "outputs": [],
   "source": [
    "class DeepNetwork(Module):\n",
    "    def __init__(self, dim_input, dim_output, hidden_dim, n_layers, tan=False):\n",
    "        self.W = ModuleList()\n",
    "        self.b = ModuleList()\n",
    "        \n",
    "        self.W.append(Parameter(np.ndarray((hidden_dim, dim_input)), name=\"W_0\"))\n",
    "        self.b.append(Parameter(np.ndarray((hidden_dim,)), name=\"b_0\"))\n",
    "\n",
    "        for i in range(n_layers-2):\n",
    "            self.W.append(Parameter(np.ndarray((hidden_dim, hidden_dim)), name=\"W_\"+str(i+1)))\n",
    "            self.b.append(Parameter(np.ndarray((hidden_dim,)), name=\"b_\"+str(i+1)))\n",
    "        \n",
    "        self.tan = tan\n",
    "\n",
    "        self.output_proj = Parameter(np.ndarray((dim_output, hidden_dim)), name=\"output_proj\")\n",
    "        self.output_bias = Parameter(np.ndarray((dim_output,)), name=\"output_bias\")\n",
    "        \n",
    "        self.init_parameters()\n",
    "        \n",
    "    def init_parameters(self):\n",
    "        # init parameters of the network (i.e W and b)\n",
    "        for i in range(len(self.W)):\n",
    "            glorot_init(self.W.parameters()[i].data)\n",
    "            zero_init(self.b.parameters()[i].data)\n",
    "        \n",
    "        glorot_init(self.output_proj.data)\n",
    "        zero_init(self.output_bias.data)\n",
    "\n",
    "    def forward(self, x):\n",
    "        # forward pass of the network\n",
    "        for i in range(len(self.W)):\n",
    "            x = affine_transform(self.W.parameters()[i], self.b.parameters()[i], x)\n",
    "            if self.tan:\n",
    "                x = tanh(x)\n",
    "            else:\n",
    "                x = relu(x)\n",
    "    \n",
    "        x = affine_transform(self.output_proj, self.output_bias, x)\n",
    "        # if self.tan:\n",
    "        #     x = tanh(x)\n",
    "        # else:\n",
    "        #     x = relu(x)\n",
    "        \n",
    "        return x"
   ]
  },
  {
   "cell_type": "code",
   "execution_count": 18,
   "metadata": {},
   "outputs": [
    {
     "name": "stdout",
     "output_type": "stream",
     "text": [
      "Epoch 0 :\n",
      "         Mean Loss: 1.571577\n",
      "         Best Dev Accuracy: 0.956300\n",
      "         Train Accuracy: 0.939900\n",
      "Epoch 1 :\n",
      "         Mean Loss: 1.512632\n",
      "         Best Dev Accuracy: 0.967900\n",
      "         Train Accuracy: 0.977180\n",
      "Epoch 2 :\n",
      "         Mean Loss: 1.498959\n",
      "         Best Dev Accuracy: 0.971500\n",
      "         Train Accuracy: 0.982340\n",
      "Epoch 3 :\n",
      "         Mean Loss: 1.489893\n",
      "         Best Dev Accuracy: 0.973600\n",
      "         Train Accuracy: 0.984280\n",
      "Epoch 4 :\n",
      "         Mean Loss: 1.484379\n",
      "         Best Dev Accuracy: 0.974200\n",
      "         Train Accuracy: 0.984720\n",
      "Test Accuracy : 0.970700\n"
     ]
    }
   ],
   "source": [
    "dim_input = 28*28\n",
    "dim_output = 10\n",
    "\n",
    "network = DeepNetwork(dim_input, dim_output, 100, 2)\n",
    "optimizer = SGD(network.parameters(), 0.01)\n",
    "\n",
    "training_loop(network, optimizer, train_data, dev_data, n_epochs=5)"
   ]
  },
  {
   "cell_type": "code",
   "execution_count": 19,
   "metadata": {},
   "outputs": [
    {
     "name": "stdout",
     "output_type": "stream",
     "text": [
      "Epoch 0 :\n",
      "         Mean Loss: 1.585190\n",
      "         Best Dev Accuracy: 0.950700\n",
      "         Train Accuracy: 0.957080\n",
      "Epoch 1 :\n",
      "         Mean Loss: 1.523098\n",
      "         Best Dev Accuracy: 0.964300\n",
      "         Train Accuracy: 0.972620\n",
      "Epoch 2 :\n",
      "         Mean Loss: 1.506917\n",
      "         Best Dev Accuracy: 0.970700\n",
      "         Train Accuracy: 0.977240\n",
      "Epoch 3 :\n",
      "         Mean Loss: 1.497341\n",
      "         Best Dev Accuracy: 0.972400\n",
      "         Train Accuracy: 0.982360\n",
      "Epoch 4 :\n",
      "         Mean Loss: 1.490002\n",
      "         Best Dev Accuracy: 0.974300\n",
      "         Train Accuracy: 0.989380\n",
      "Test Accuracy : 0.974800\n"
     ]
    }
   ],
   "source": [
    "dim_input = 28*28\n",
    "dim_output = 10\n",
    "\n",
    "network = DeepNetwork(dim_input, dim_output, 100, 2,tan=True)\n",
    "optimizer = SGD(network.parameters(), 0.01)\n",
    "\n",
    "training_loop(network, optimizer, train_data, dev_data, n_epochs=5)"
   ]
  },
  {
   "cell_type": "markdown",
   "metadata": {},
   "source": [
    "## Bonus\n",
    "\n",
    "You can try to implement a momentum SGD optimizer! Note that you have to keep track of the velocity for each parameter in the optimizer.\n"
   ]
  },
  {
   "cell_type": "code",
   "execution_count": 47,
   "metadata": {},
   "outputs": [],
   "source": [
    "class MomentumSGD:\n",
    "    def __init__(self, params, lr=0.1,momentum=0.9):\n",
    "        self.params = params\n",
    "        self.lr = lr\n",
    "        self.momentum = momentum\n",
    "        \n",
    "        \n",
    "    def step(self):\n",
    "        for p in self.params:\n",
    "            p.velocity[:] = self.momentum * p.velocity + p.gradient\n",
    "            p.data[:] = p.data - self.lr * p.velocity\n",
    "        \n",
    "    def zero_grad(self):\n",
    "        for p in self.params:\n",
    "            p.zero_grad()"
   ]
  },
  {
   "cell_type": "code",
   "execution_count": 48,
   "metadata": {},
   "outputs": [
    {
     "name": "stdout",
     "output_type": "stream",
     "text": [
      "Epoch 0 :\n",
      "         Mean Loss: 1.570353\n",
      "         Best Dev Accuracy: 0.960500\n",
      "         Train Accuracy: 0.962080\n",
      "Epoch 1 :\n",
      "         Mean Loss: 1.511513\n",
      "         Best Dev Accuracy: 0.968300\n",
      "         Train Accuracy: 0.979140\n",
      "Epoch 2 :\n",
      "         Mean Loss: 1.498082\n",
      "         Best Dev Accuracy: 0.972500\n",
      "         Train Accuracy: 0.983440\n",
      "Epoch 3 :\n",
      "         Mean Loss: 1.490860\n",
      "         Best Dev Accuracy: 0.975500\n",
      "         Train Accuracy: 0.984660\n",
      "Epoch 4 :\n",
      "         Mean Loss: 1.484879\n",
      "         Best Dev Accuracy: 0.975200\n",
      "         Train Accuracy: 0.989980\n",
      "Test Accuracy : 0.976100\n"
     ]
    }
   ],
   "source": [
    "network = DeepNetwork(dim_input, dim_output, 100, 2)\n",
    "optimizer = MomentumSGD(network.parameters(), lr=0.001, momentum=0.9)\n",
    "\n",
    "training_loop(network, optimizer, train_data, dev_data, n_epochs=5)"
   ]
  },
  {
   "cell_type": "code",
   "execution_count": null,
   "metadata": {},
   "outputs": [],
   "source": []
  }
 ],
 "metadata": {
  "kernelspec": {
   "display_name": "Python 3 (ipykernel)",
   "language": "python",
   "name": "python3"
  },
  "language_info": {
   "codemirror_mode": {
    "name": "ipython",
    "version": 3
   },
   "file_extension": ".py",
   "mimetype": "text/x-python",
   "name": "python",
   "nbconvert_exporter": "python",
   "pygments_lexer": "ipython3",
   "version": "3.9.16"
  }
 },
 "nbformat": 4,
 "nbformat_minor": 2
}
